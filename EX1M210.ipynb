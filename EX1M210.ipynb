{
  "nbformat": 4,
  "nbformat_minor": 0,
  "metadata": {
    "interpreter": {
      "hash": "2e3c1e8da6e821b0193601da5a0e541c0efda9704da45b6b820f5f4c317f2def"
    },
    "kernelspec": {
      "name": "python3",
      "display_name": "Python 3.9.2 64-bit"
    },
    "language_info": {
      "codemirror_mode": {
        "name": "ipython",
        "version": 3
      },
      "file_extension": ".py",
      "mimetype": "text/x-python",
      "name": "python",
      "nbconvert_exporter": "python",
      "pygments_lexer": "ipython3",
      "version": "3.9.2"
    },
    "colab": {
      "name": "EX1M210.ipynb",
      "provenance": [],
      "collapsed_sections": []
    }
  },
  "cells": [
    {
      "cell_type": "markdown",
      "metadata": {
        "id": "pHRJICZ_2dvb"
      },
      "source": [
        "Gabriel Moreira Peixoto Diniz - 1070 \n",
        "\n",
        "Veronica Santos -  1309\n"
      ]
    },
    {
      "cell_type": "markdown",
      "metadata": {
        "id": "nphm_U8S4LYm"
      },
      "source": [
        "Exercício 1"
      ]
    },
    {
      "cell_type": "code",
      "metadata": {
        "colab": {
          "base_uri": "https://localhost:8080/"
        },
        "id": "eyg_ARlu3ATQ",
        "outputId": "7749cbc2-947b-43d0-b79e-77a1277d405d"
      },
      "source": [
        "import sys\n",
        "!{sys.executable} -m pip install pulp"
      ],
      "execution_count": 4,
      "outputs": [
        {
          "output_type": "stream",
          "text": [
            "Collecting pulp\n",
            "\u001b[?25l  Downloading https://files.pythonhosted.org/packages/14/c4/0eec14a0123209c261de6ff154ef3be5cad3fd557c084f468356662e0585/PuLP-2.4-py3-none-any.whl (40.6MB)\n",
            "\u001b[K     |████████████████████████████████| 40.6MB 82kB/s \n",
            "\u001b[?25hCollecting amply>=0.1.2\n",
            "  Downloading https://files.pythonhosted.org/packages/f3/c5/dfa09dd2595a2ab2ab4e6fa7bebef9565812722e1980d04b0edce5032066/amply-0.1.4-py3-none-any.whl\n",
            "Requirement already satisfied: docutils>=0.3 in /usr/local/lib/python3.7/dist-packages (from amply>=0.1.2->pulp) (0.17.1)\n",
            "Requirement already satisfied: pyparsing in /usr/local/lib/python3.7/dist-packages (from amply>=0.1.2->pulp) (2.4.7)\n",
            "Installing collected packages: amply, pulp\n",
            "Successfully installed amply-0.1.4 pulp-2.4\n"
          ],
          "name": "stdout"
        }
      ]
    },
    {
      "cell_type": "code",
      "metadata": {
        "colab": {
          "base_uri": "https://localhost:8080/"
        },
        "id": "uNPxCHfz2dvc",
        "outputId": "f1612856-300c-48bf-b31e-6d1ece06844d"
      },
      "source": [
        "import pulp\n",
        "\n",
        "modelo = pulp.LpProblem(\"MODELO_MATEMATICO\", pulp.LpMaximize)\n",
        "\n",
        "A = pulp.LpVariable(\"A\", lowBound = 0)\n",
        "B = pulp.LpVariable(\"B\", lowBound = 0)\n",
        "C = pulp.LpVariable(\"C\", lowBound = 0)\n",
        "D = pulp.LpVariable(\"D\", lowBound = 0)\n",
        "\n",
        "modelo += 40*A+32*B+35*C+36*D\n",
        "\n",
        "modelo += ((A+1.5*B+0.75*C+1.25*D) <= 650, \"Prensagem\")\n",
        "modelo += ((2*A+1.5*B +2.5*C+1.5*D) <= 700, \"Refinacao\")\n",
        "modelo += ((1.5*A+1.25*B+1.25*C+1.5*D) <= 700, \"Embalamento\")\n",
        "\n",
        "print(modelo)"
      ],
      "execution_count": 10,
      "outputs": [
        {
          "output_type": "stream",
          "text": [
            "MODELO_MATEMATICO:\n",
            "MAXIMIZE\n",
            "40*A + 32*B + 35*C + 36*D + 0\n",
            "SUBJECT TO\n",
            "Prensagem: A + 1.5 B + 0.75 C + 1.25 D <= 650\n",
            "\n",
            "Refinacao: 2 A + 1.5 B + 2.5 C + 1.5 D <= 700\n",
            "\n",
            "Embalamento: 1.5 A + 1.25 B + 1.25 C + 1.5 D <= 700\n",
            "\n",
            "VARIABLES\n",
            "A Continuous\n",
            "B Continuous\n",
            "C Continuous\n",
            "D Continuous\n",
            "\n"
          ],
          "name": "stdout"
        }
      ]
    },
    {
      "cell_type": "code",
      "metadata": {
        "colab": {
          "base_uri": "https://localhost:8080/"
        },
        "id": "jRnGpxsr2dve",
        "outputId": "c2345b2e-3972-4f36-b728-e600cad60b6b"
      },
      "source": [
        "otimo = modelo.solve()\n",
        "\n",
        "print(\"Lucro ótimo:\", pulp.value(modelo.objective))\n",
        "\n",
        "for var in modelo.variables():\n",
        "  print(\"%s: %.2f\" %(var.name, var.varValue))\n",
        "\n",
        "print()"
      ],
      "execution_count": 6,
      "outputs": [
        {
          "output_type": "stream",
          "text": [
            "Lucro ótimo: 16800.00012\n",
            "A: 0.00\n",
            "B: 0.00\n",
            "C: 0.00\n",
            "D: 466.67\n",
            "\n"
          ],
          "name": "stdout"
        }
      ]
    },
    {
      "cell_type": "code",
      "metadata": {
        "colab": {
          "base_uri": "https://localhost:8080/"
        },
        "id": "Mqc2MBEF2dvf",
        "outputId": "531dda5d-c881-4cf3-fb0c-9af77eb3eb00"
      },
      "source": [
        "\n",
        "modelo = pulp.LpProblem(\"MODELO_MATEMATICO\", pulp.LpMaximize)\n",
        "\n",
        "A = pulp.LpVariable(\"A\", lowBound = 0)\n",
        "B = pulp.LpVariable(\"B\", lowBound = 0)\n",
        "C = pulp.LpVariable(\"C\", lowBound = 0)\n",
        "D = pulp.LpVariable(\"D\", lowBound = 0)\n",
        "\n",
        "# Função objetivo\n",
        "modelo += 40*A + 32*B + 35*C + 36*D\n",
        "\n",
        "#Restrições \n",
        "modelo += ((A + 1.5*B + 0.75*C + 1.25*D) <= 650, \"Prensagem\")\n",
        "modelo += ((2*A + 1.5*B + 2.5*C + 1.5*D) <= 700, \"Refinacao\")\n",
        "modelo += ((1.5*A + 1.25*B + 1.25*C + 1.5*D) <= 700, \"Embalamento\")\n",
        "modelo += ((-C) <= (-100), \"Minimo De Azeite 3\")\n",
        "modelo += ((-D) <= (-50), \"Minimo De Azeite 4\")\n",
        "\n",
        "print(modelo)\n",
        "\n",
        "otimo = modelo.solve()\n",
        "\n",
        "print(\"Lucro ótimo:\", pulp.value(modelo.objective))\n",
        "\n",
        "for var in modelo.variables():\n",
        "  print(\"%s: %.2f\" %(var.name, var.varValue))\n",
        "\n",
        "print()\n",
        "\n",
        "for nome, restricoes in list(modelo.constraints.items()):\n",
        "  print(nome)\n",
        "  print(\"Preço sombra:\", restricoes.pi)"
      ],
      "execution_count": 7,
      "outputs": [
        {
          "output_type": "stream",
          "text": [
            "MODELO_MATEMATICO:\n",
            "MAXIMIZE\n",
            "40*A + 32*B + 35*C + 36*D + 0\n",
            "SUBJECT TO\n",
            "Prensagem: A + 1.5 B + 0.75 C + 1.25 D <= 650\n",
            "\n",
            "Refinacao: 2 A + 1.5 B + 2.5 C + 1.5 D <= 700\n",
            "\n",
            "Embalamento: 1.5 A + 1.25 B + 1.25 C + 1.5 D <= 700\n",
            "\n",
            "Minimo_De_Azeite_3: - C <= -100\n",
            "\n",
            "Minimo_De_Azeite_4: - D <= -50\n",
            "\n",
            "VARIABLES\n",
            "A Continuous\n",
            "B Continuous\n",
            "C Continuous\n",
            "D Continuous\n",
            "\n",
            "Lucro ótimo: 14300.0\n",
            "A: 0.00\n",
            "B: 0.00\n",
            "C: 100.00\n",
            "D: 300.00\n",
            "\n",
            "Prensagem\n",
            "Preço sombra: -0.0\n",
            "Refinacao\n",
            "Preço sombra: 24.0\n",
            "Embalamento\n",
            "Preço sombra: -0.0\n",
            "Minimo_De_Azeite_3\n",
            "Preço sombra: 25.0\n",
            "Minimo_De_Azeite_4\n",
            "Preço sombra: -0.0\n"
          ],
          "name": "stdout"
        }
      ]
    },
    {
      "cell_type": "code",
      "metadata": {
        "colab": {
          "base_uri": "https://localhost:8080/"
        },
        "id": "GaUCR0sB2dvf",
        "outputId": "0f5fbce3-e092-46e8-8c47-bef1940dc42c"
      },
      "source": [
        "modelo = pulp.LpProblem(\"MODELO_MATEMATICO\", pulp.LpMaximize)\n",
        "\n",
        "A = pulp.LpVariable(\"A\", lowBound = 0)\n",
        "B = pulp.LpVariable(\"B\", lowBound = 0)\n",
        "C = pulp.LpVariable(\"C\", lowBound = 0)\n",
        "D = pulp.LpVariable(\"D\", lowBound = 0)\n",
        "\n",
        "# Função objetivo\n",
        "modelo += 40*A + 32*B + 35*C + 36*D\n",
        "\n",
        "#Restrições \n",
        "modelo += ((A + 1.5*B + 0.75*C + 1.25*D) <= 650, \"Prensagem\")\n",
        "modelo += ((2*A + 1.5*B + 2.5*C + 1.5*D) <= 700, \"Refinacao\")\n",
        "modelo += ((1.5*A + 1.25*B + 1.25*C + 1.5*D) <= 700, \"Embalamento\")\n",
        "modelo += ((-C) - D <= (-2500), \"Producao_minima_de_C_e_D\")\n",
        "\n",
        "print()\n",
        "print(modelo)\n",
        "\n",
        "solucao = modelo.solve()\n",
        "\n",
        "if pulp.LpStatus[modelo.status] == 'Optimal':\n",
        "  print(\"Lucro ótimo:\", pulp.value(modelo.objective))\n",
        "\n",
        "  for var in modelo.variables():\n",
        "    print(\"%s: %.2f\" %(var.name, var.varValue))\n",
        "    print()\n",
        "    \n",
        "  print()\n",
        "\n",
        "  for nome, restricoes in list(modelo.constraints.items()):\n",
        "    print(nome, \"-> Preço sombra:\", restricoes.pi)\n",
        "    print()\n",
        "else:\n",
        "  print(\"SOLUÇÃO OTIMA N ENCONTRADA!\")"
      ],
      "execution_count": 8,
      "outputs": [
        {
          "output_type": "stream",
          "text": [
            "\n",
            "MODELO_MATEMATICO:\n",
            "MAXIMIZE\n",
            "40*A + 32*B + 35*C + 36*D + 0\n",
            "SUBJECT TO\n",
            "Prensagem: A + 1.5 B + 0.75 C + 1.25 D <= 650\n",
            "\n",
            "Refinacao: 2 A + 1.5 B + 2.5 C + 1.5 D <= 700\n",
            "\n",
            "Embalamento: 1.5 A + 1.25 B + 1.25 C + 1.5 D <= 700\n",
            "\n",
            "Producao_minima_de_C_e_D: - C - D <= -2500\n",
            "\n",
            "VARIABLES\n",
            "A Continuous\n",
            "B Continuous\n",
            "C Continuous\n",
            "D Continuous\n",
            "\n",
            "SOLUÇÃO OTIMA N ENCONTRADA!\n"
          ],
          "name": "stdout"
        }
      ]
    }
  ]
}