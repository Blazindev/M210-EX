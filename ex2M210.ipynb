{
  "nbformat": 4,
  "nbformat_minor": 0,
  "metadata": {
    "colab": {
      "name": "ex2M210.ipynb",
      "provenance": [],
      "collapsed_sections": []
    },
    "kernelspec": {
      "display_name": "Python 3",
      "language": "python",
      "name": "python3"
    },
    "language_info": {
      "codemirror_mode": {
        "name": "ipython",
        "version": 3
      },
      "file_extension": ".py",
      "mimetype": "text/x-python",
      "name": "python",
      "nbconvert_exporter": "python",
      "pygments_lexer": "ipython3",
      "version": "3.6.4"
    }
  },
  "cells": [
    {
      "cell_type": "markdown",
      "metadata": {
        "id": "7xZq4ASxMXBi"
      },
      "source": [
        "Gabriel Moreira Peixoto Diniz - 1070 \n",
        "\n",
        "Veronica Santos -  1309\n"
      ]
    },
    {
      "cell_type": "markdown",
      "metadata": {
        "id": "rPaQkA2NMS4k"
      },
      "source": [
        "Exercício 2\n"
      ]
    },
    {
      "cell_type": "code",
      "metadata": {
        "id": "OPE1fgSet9Xi",
        "colab": {
          "base_uri": "https://localhost:8080/"
        },
        "outputId": "5b6713a5-f469-4274-9424-c4da474a6f47"
      },
      "source": [
        "import sys\n",
        "!{sys.executable} -m pip install pulp"
      ],
      "execution_count": 1,
      "outputs": [
        {
          "output_type": "stream",
          "text": [
            "Collecting pulp\n",
            "\u001b[?25l  Downloading https://files.pythonhosted.org/packages/14/c4/0eec14a0123209c261de6ff154ef3be5cad3fd557c084f468356662e0585/PuLP-2.4-py3-none-any.whl (40.6MB)\n",
            "\u001b[K     |████████████████████████████████| 40.6MB 76kB/s \n",
            "\u001b[?25hCollecting amply>=0.1.2\n",
            "  Downloading https://files.pythonhosted.org/packages/f3/c5/dfa09dd2595a2ab2ab4e6fa7bebef9565812722e1980d04b0edce5032066/amply-0.1.4-py3-none-any.whl\n",
            "Requirement already satisfied: docutils>=0.3 in /usr/local/lib/python3.7/dist-packages (from amply>=0.1.2->pulp) (0.17.1)\n",
            "Requirement already satisfied: pyparsing in /usr/local/lib/python3.7/dist-packages (from amply>=0.1.2->pulp) (2.4.7)\n",
            "Installing collected packages: amply, pulp\n",
            "Successfully installed amply-0.1.4 pulp-2.4\n"
          ],
          "name": "stdout"
        }
      ]
    },
    {
      "cell_type": "code",
      "metadata": {
        "colab": {
          "base_uri": "https://localhost:8080/"
        },
        "id": "5xmSRxVouQiE",
        "outputId": "1b48c4cb-4706-477a-b10e-9c51930d3fb8"
      },
      "source": [
        "from pulp import *\n",
        "\n",
        "\n",
        "ex2 = LpProblem('Exercicio 2', LpMaximize)\n",
        "\n",
        "m1 = LpVariable(\"Motor 1\", 0)\n",
        "m2 = LpVariable(\"Motor 2\", 0)\n",
        "m3 = LpVariable(\"Motor 3\", 0)\n",
        "m4 = LpVariable(\"Motor 4\", 0)\n",
        "\n",
        "ex2 += 60*m1 + 40*m2 + 25*m3 + 30*m4\n",
        "\n",
        "ex2 += 8*m1 + 5*m2 + 4*m3 + 6*m4 <= 8000\n",
        "ex2 += m1 <= 500\n",
        "ex2 += m2 <= 500\n",
        "ex2 += m3 <= 800\n",
        "ex2 += m4 <= 750\n",
        "\n",
        " \n",
        "ex2.solve()\n",
        "\n",
        " \n",
        "print (\"Status:\", LpStatus[ex2.status])\n",
        "\n",
        " \n",
        "for variable in ex2.variables():\n",
        "   print (\"%s = %0.3f\" % (variable.name, variable.varValue))\n",
        "\n",
        "print(\"Lucro máximo = \", value(ex2.objective))\n",
        "\n",
        "inc2 = 40\n",
        "inc4 = 30\n",
        "while(variable.varValue == 0):\n",
        " \n",
        " ex2 = LpProblem('Exercicio 2', LpMaximize)\n",
        "\n",
        " m1 = LpVariable(\"Motor 1\", 0)\n",
        " m2 = LpVariable(\"Motor 2\", 0)\n",
        " m3 = LpVariable(\"Motor 3\", 0)\n",
        " m4 = LpVariable(\"Motor 4\", 0)\n",
        "\n",
        " ex2 += 60*m1 + inc2*m2 + 25*m3 + inc4*m4\n",
        "\n",
        " ex2 += 8*m1 + 5*m2 + 4*m3 + 6*m4 <= 8000\n",
        " ex2 += m1 <= 500\n",
        " ex2 += m2 <= 500\n",
        " ex2 += m3 <= 800\n",
        " ex2 += m4 <= 750\n",
        " \n",
        " ex2.solve()\n",
        "\n",
        " \n",
        " print (\"Status:\", LpStatus[ex2.status])        \n",
        " \n",
        " for variable in ex2.variables():\n",
        "    print (\"%s = %0.3f\" % (variable.name, variable.varValue))\n",
        "             \n",
        " print(\"Lucro máximo = \", value(ex2.objective))\n",
        " inc4 = inc4 + 1\n",
        " inc2 = inc2 - 1\n",
        "\n",
        " print (\"Numero do aumento do preço 4:\" , (inc4))\n",
        " print (\"Numero do aumento do preço 4:\" , (inc2))\n",
        "\n",
        "\n",
        "\n",
        "\n",
        "\n",
        "\n",
        "\n",
        "\n",
        "\n",
        "\n"
      ],
      "execution_count": 2,
      "outputs": [
        {
          "output_type": "stream",
          "text": [
            "Status: Optimal\n",
            "Motor_1 = 500.000\n",
            "Motor_2 = 500.000\n",
            "Motor_3 = 375.000\n",
            "Motor_4 = 0.000\n",
            "Lucro máximo =  59375.0\n",
            "Status: Optimal\n",
            "Motor_1 = 500.000\n",
            "Motor_2 = 500.000\n",
            "Motor_3 = 375.000\n",
            "Motor_4 = 0.000\n",
            "Lucro máximo =  59375.0\n",
            "Numero do aumento do preço 4: 31\n",
            "Numero do aumento do preço 4: 39\n",
            "Status: Optimal\n",
            "Motor_1 = 500.000\n",
            "Motor_2 = 500.000\n",
            "Motor_3 = 375.000\n",
            "Motor_4 = 0.000\n",
            "Lucro máximo =  58875.0\n",
            "Numero do aumento do preço 4: 32\n",
            "Numero do aumento do preço 4: 38\n",
            "Status: Optimal\n",
            "Motor_1 = 500.000\n",
            "Motor_2 = 500.000\n",
            "Motor_3 = 375.000\n",
            "Motor_4 = 0.000\n",
            "Lucro máximo =  58375.0\n",
            "Numero do aumento do preço 4: 33\n",
            "Numero do aumento do preço 4: 37\n",
            "Status: Optimal\n",
            "Motor_1 = 500.000\n",
            "Motor_2 = 500.000\n",
            "Motor_3 = 375.000\n",
            "Motor_4 = 0.000\n",
            "Lucro máximo =  57875.0\n",
            "Numero do aumento do preço 4: 34\n",
            "Numero do aumento do preço 4: 36\n",
            "Status: Optimal\n",
            "Motor_1 = 500.000\n",
            "Motor_2 = 500.000\n",
            "Motor_3 = 375.000\n",
            "Motor_4 = 0.000\n",
            "Lucro máximo =  57375.0\n",
            "Numero do aumento do preço 4: 35\n",
            "Numero do aumento do preço 4: 35\n",
            "Status: Optimal\n",
            "Motor_1 = 500.000\n",
            "Motor_2 = 500.000\n",
            "Motor_3 = 375.000\n",
            "Motor_4 = 0.000\n",
            "Lucro máximo =  56875.0\n",
            "Numero do aumento do preço 4: 36\n",
            "Numero do aumento do preço 4: 34\n",
            "Status: Optimal\n",
            "Motor_1 = 500.000\n",
            "Motor_2 = 500.000\n",
            "Motor_3 = 375.000\n",
            "Motor_4 = 0.000\n",
            "Lucro máximo =  56375.0\n",
            "Numero do aumento do preço 4: 37\n",
            "Numero do aumento do preço 4: 33\n",
            "Status: Optimal\n",
            "Motor_1 = 500.000\n",
            "Motor_2 = 500.000\n",
            "Motor_3 = 375.000\n",
            "Motor_4 = 0.000\n",
            "Lucro máximo =  55875.0\n",
            "Numero do aumento do preço 4: 38\n",
            "Numero do aumento do preço 4: 32\n",
            "Status: Optimal\n",
            "Motor_1 = 500.000\n",
            "Motor_2 = 500.000\n",
            "Motor_3 = 0.000\n",
            "Motor_4 = 250.000\n",
            "Lucro máximo =  55500.0\n",
            "Numero do aumento do preço 4: 39\n",
            "Numero do aumento do preço 4: 31\n"
          ],
          "name": "stdout"
        },
        {
          "output_type": "stream",
          "text": [
            "/usr/local/lib/python3.7/dist-packages/pulp/pulp.py:1199: UserWarning: Spaces are not permitted in the name. Converted to '_'\n",
            "  warnings.warn(\"Spaces are not permitted in the name. Converted to '_'\")\n"
          ],
          "name": "stderr"
        }
      ]
    },
    {
      "cell_type": "code",
      "metadata": {
        "id": "xZl_V7f_JgF-"
      },
      "source": [
        ""
      ],
      "execution_count": null,
      "outputs": []
    },
    {
      "cell_type": "code",
      "metadata": {
        "id": "Mbsf8jFuJgF_"
      },
      "source": [
        ""
      ],
      "execution_count": null,
      "outputs": []
    }
  ]
}